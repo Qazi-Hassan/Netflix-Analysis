{
 "cells": [
  {
   "cell_type": "markdown",
   "metadata": {},
   "source": [
    "# Project: Netflix Movies & TV shows Analysis"
   ]
  },
  {
   "cell_type": "markdown",
   "metadata": {},
   "source": [
    "Objectives:"
   ]
  },
  {
   "cell_type": "markdown",
   "metadata": {},
   "source": [
    "### 1. data Exploration"
   ]
  },
  {
   "cell_type": "markdown",
   "metadata": {},
   "source": [
    "#### 1.1: Installing & importing the necessnary Libraraies"
   ]
  },
  {
   "cell_type": "code",
   "execution_count": 53,
   "metadata": {},
   "outputs": [],
   "source": [
    "# installing the libraries\n",
    "# pip install numpy, pandas, seaborn, matplotlib"
   ]
  },
  {
   "cell_type": "code",
   "execution_count": 54,
   "metadata": {},
   "outputs": [],
   "source": [
    "# importing the libraries\n",
    "import pandas as pd\n",
    "import numpy as np\n",
    "import seaborn as sns\n",
    "import matplotlib.pyplot as plt"
   ]
  },
  {
   "cell_type": "markdown",
   "metadata": {},
   "source": [
    "#### 1.2: Loading & viewing the datasetm"
   ]
  },
  {
   "cell_type": "code",
   "execution_count": 55,
   "metadata": {},
   "outputs": [
    {
     "data": {
      "application/vnd.microsoft.datawrangler.viewer.v0+json": {
       "columns": [
        {
         "name": "index",
         "rawType": "int64",
         "type": "integer"
        },
        {
         "name": "show_id",
         "rawType": "object",
         "type": "string"
        },
        {
         "name": "type",
         "rawType": "object",
         "type": "string"
        },
        {
         "name": "title",
         "rawType": "object",
         "type": "string"
        },
        {
         "name": "director",
         "rawType": "object",
         "type": "unknown"
        },
        {
         "name": "cast",
         "rawType": "object",
         "type": "unknown"
        },
        {
         "name": "country",
         "rawType": "object",
         "type": "unknown"
        },
        {
         "name": "date_added",
         "rawType": "object",
         "type": "string"
        },
        {
         "name": "release_year",
         "rawType": "int64",
         "type": "integer"
        },
        {
         "name": "rating",
         "rawType": "object",
         "type": "string"
        },
        {
         "name": "duration",
         "rawType": "object",
         "type": "string"
        },
        {
         "name": "listed_in",
         "rawType": "object",
         "type": "string"
        },
        {
         "name": "description",
         "rawType": "object",
         "type": "string"
        }
       ],
       "conversionMethod": "pd.DataFrame",
       "ref": "f5f7f0cd-8e06-4912-b309-2fae65738936",
       "rows": [
        [
         "0",
         "s1",
         "Movie",
         "Dick Johnson Is Dead",
         "Kirsten Johnson",
         null,
         "United States",
         "September 25, 2021",
         "2020",
         "PG-13",
         "90 min",
         "Documentaries",
         "As her father nears the end of his life, filmmaker Kirsten Johnson stages his death in inventive and comical ways to help them both face the inevitable."
        ],
        [
         "1",
         "s2",
         "TV Show",
         "Blood & Water",
         null,
         "Ama Qamata, Khosi Ngema, Gail Mabalane, Thabang Molaba, Dillon Windvogel, Natasha Thahane, Arno Greeff, Xolile Tshabalala, Getmore Sithole, Cindy Mahlangu, Ryle De Morny, Greteli Fincham, Sello Maake Ka-Ncube, Odwa Gwanya, Mekaila Mathys, Sandi Schultz, Duane Williams, Shamilla Miller, Patrick Mofokeng",
         "South Africa",
         "September 24, 2021",
         "2021",
         "TV-MA",
         "2 Seasons",
         "International TV Shows, TV Dramas, TV Mysteries",
         "After crossing paths at a party, a Cape Town teen sets out to prove whether a private-school swimming star is her sister who was abducted at birth."
        ],
        [
         "2",
         "s3",
         "TV Show",
         "Ganglands",
         "Julien Leclercq",
         "Sami Bouajila, Tracy Gotoas, Samuel Jouy, Nabiha Akkari, Sofia Lesaffre, Salim Kechiouche, Noureddine Farihi, Geert Van Rampelberg, Bakary Diombera",
         null,
         "September 24, 2021",
         "2021",
         "TV-MA",
         "1 Season",
         "Crime TV Shows, International TV Shows, TV Action & Adventure",
         "To protect his family from a powerful drug lord, skilled thief Mehdi and his expert team of robbers are pulled into a violent and deadly turf war."
        ],
        [
         "3",
         "s4",
         "TV Show",
         "Jailbirds New Orleans",
         null,
         null,
         null,
         "September 24, 2021",
         "2021",
         "TV-MA",
         "1 Season",
         "Docuseries, Reality TV",
         "Feuds, flirtations and toilet talk go down among the incarcerated women at the Orleans Justice Center in New Orleans on this gritty reality series."
        ],
        [
         "4",
         "s5",
         "TV Show",
         "Kota Factory",
         null,
         "Mayur More, Jitendra Kumar, Ranjan Raj, Alam Khan, Ahsaas Channa, Revathi Pillai, Urvi Singh, Arun Kumar",
         "India",
         "September 24, 2021",
         "2021",
         "TV-MA",
         "2 Seasons",
         "International TV Shows, Romantic TV Shows, TV Comedies",
         "In a city of coaching centers known to train India’s finest collegiate minds, an earnest but unexceptional student and his friends navigate campus life."
        ]
       ],
       "shape": {
        "columns": 12,
        "rows": 5
       }
      },
      "text/html": [
       "<div>\n",
       "<style scoped>\n",
       "    .dataframe tbody tr th:only-of-type {\n",
       "        vertical-align: middle;\n",
       "    }\n",
       "\n",
       "    .dataframe tbody tr th {\n",
       "        vertical-align: top;\n",
       "    }\n",
       "\n",
       "    .dataframe thead th {\n",
       "        text-align: right;\n",
       "    }\n",
       "</style>\n",
       "<table border=\"1\" class=\"dataframe\">\n",
       "  <thead>\n",
       "    <tr style=\"text-align: right;\">\n",
       "      <th></th>\n",
       "      <th>show_id</th>\n",
       "      <th>type</th>\n",
       "      <th>title</th>\n",
       "      <th>director</th>\n",
       "      <th>cast</th>\n",
       "      <th>country</th>\n",
       "      <th>date_added</th>\n",
       "      <th>release_year</th>\n",
       "      <th>rating</th>\n",
       "      <th>duration</th>\n",
       "      <th>listed_in</th>\n",
       "      <th>description</th>\n",
       "    </tr>\n",
       "  </thead>\n",
       "  <tbody>\n",
       "    <tr>\n",
       "      <th>0</th>\n",
       "      <td>s1</td>\n",
       "      <td>Movie</td>\n",
       "      <td>Dick Johnson Is Dead</td>\n",
       "      <td>Kirsten Johnson</td>\n",
       "      <td>NaN</td>\n",
       "      <td>United States</td>\n",
       "      <td>September 25, 2021</td>\n",
       "      <td>2020</td>\n",
       "      <td>PG-13</td>\n",
       "      <td>90 min</td>\n",
       "      <td>Documentaries</td>\n",
       "      <td>As her father nears the end of his life, filmm...</td>\n",
       "    </tr>\n",
       "    <tr>\n",
       "      <th>1</th>\n",
       "      <td>s2</td>\n",
       "      <td>TV Show</td>\n",
       "      <td>Blood &amp; Water</td>\n",
       "      <td>NaN</td>\n",
       "      <td>Ama Qamata, Khosi Ngema, Gail Mabalane, Thaban...</td>\n",
       "      <td>South Africa</td>\n",
       "      <td>September 24, 2021</td>\n",
       "      <td>2021</td>\n",
       "      <td>TV-MA</td>\n",
       "      <td>2 Seasons</td>\n",
       "      <td>International TV Shows, TV Dramas, TV Mysteries</td>\n",
       "      <td>After crossing paths at a party, a Cape Town t...</td>\n",
       "    </tr>\n",
       "    <tr>\n",
       "      <th>2</th>\n",
       "      <td>s3</td>\n",
       "      <td>TV Show</td>\n",
       "      <td>Ganglands</td>\n",
       "      <td>Julien Leclercq</td>\n",
       "      <td>Sami Bouajila, Tracy Gotoas, Samuel Jouy, Nabi...</td>\n",
       "      <td>NaN</td>\n",
       "      <td>September 24, 2021</td>\n",
       "      <td>2021</td>\n",
       "      <td>TV-MA</td>\n",
       "      <td>1 Season</td>\n",
       "      <td>Crime TV Shows, International TV Shows, TV Act...</td>\n",
       "      <td>To protect his family from a powerful drug lor...</td>\n",
       "    </tr>\n",
       "    <tr>\n",
       "      <th>3</th>\n",
       "      <td>s4</td>\n",
       "      <td>TV Show</td>\n",
       "      <td>Jailbirds New Orleans</td>\n",
       "      <td>NaN</td>\n",
       "      <td>NaN</td>\n",
       "      <td>NaN</td>\n",
       "      <td>September 24, 2021</td>\n",
       "      <td>2021</td>\n",
       "      <td>TV-MA</td>\n",
       "      <td>1 Season</td>\n",
       "      <td>Docuseries, Reality TV</td>\n",
       "      <td>Feuds, flirtations and toilet talk go down amo...</td>\n",
       "    </tr>\n",
       "    <tr>\n",
       "      <th>4</th>\n",
       "      <td>s5</td>\n",
       "      <td>TV Show</td>\n",
       "      <td>Kota Factory</td>\n",
       "      <td>NaN</td>\n",
       "      <td>Mayur More, Jitendra Kumar, Ranjan Raj, Alam K...</td>\n",
       "      <td>India</td>\n",
       "      <td>September 24, 2021</td>\n",
       "      <td>2021</td>\n",
       "      <td>TV-MA</td>\n",
       "      <td>2 Seasons</td>\n",
       "      <td>International TV Shows, Romantic TV Shows, TV ...</td>\n",
       "      <td>In a city of coaching centers known to train I...</td>\n",
       "    </tr>\n",
       "  </tbody>\n",
       "</table>\n",
       "</div>"
      ],
      "text/plain": [
       "  show_id     type                  title         director  \\\n",
       "0      s1    Movie   Dick Johnson Is Dead  Kirsten Johnson   \n",
       "1      s2  TV Show          Blood & Water              NaN   \n",
       "2      s3  TV Show              Ganglands  Julien Leclercq   \n",
       "3      s4  TV Show  Jailbirds New Orleans              NaN   \n",
       "4      s5  TV Show           Kota Factory              NaN   \n",
       "\n",
       "                                                cast        country  \\\n",
       "0                                                NaN  United States   \n",
       "1  Ama Qamata, Khosi Ngema, Gail Mabalane, Thaban...   South Africa   \n",
       "2  Sami Bouajila, Tracy Gotoas, Samuel Jouy, Nabi...            NaN   \n",
       "3                                                NaN            NaN   \n",
       "4  Mayur More, Jitendra Kumar, Ranjan Raj, Alam K...          India   \n",
       "\n",
       "           date_added  release_year rating   duration  \\\n",
       "0  September 25, 2021          2020  PG-13     90 min   \n",
       "1  September 24, 2021          2021  TV-MA  2 Seasons   \n",
       "2  September 24, 2021          2021  TV-MA   1 Season   \n",
       "3  September 24, 2021          2021  TV-MA   1 Season   \n",
       "4  September 24, 2021          2021  TV-MA  2 Seasons   \n",
       "\n",
       "                                           listed_in  \\\n",
       "0                                      Documentaries   \n",
       "1    International TV Shows, TV Dramas, TV Mysteries   \n",
       "2  Crime TV Shows, International TV Shows, TV Act...   \n",
       "3                             Docuseries, Reality TV   \n",
       "4  International TV Shows, Romantic TV Shows, TV ...   \n",
       "\n",
       "                                         description  \n",
       "0  As her father nears the end of his life, filmm...  \n",
       "1  After crossing paths at a party, a Cape Town t...  \n",
       "2  To protect his family from a powerful drug lor...  \n",
       "3  Feuds, flirtations and toilet talk go down amo...  \n",
       "4  In a city of coaching centers known to train I...  "
      ]
     },
     "execution_count": 55,
     "metadata": {},
     "output_type": "execute_result"
    }
   ],
   "source": [
    "#Loading the dataset \n",
    "df = pd.read_csv(\"netflix_titles.csv\")\n",
    "\n",
    "# viewing the first 5 rows\n",
    "df.head()"
   ]
  },
  {
   "cell_type": "markdown",
   "metadata": {},
   "source": [
    "#### 1.3: checking the basic dataset info"
   ]
  },
  {
   "cell_type": "code",
   "execution_count": 56,
   "metadata": {},
   "outputs": [
    {
     "name": "stdout",
     "output_type": "stream",
     "text": [
      "<class 'pandas.core.frame.DataFrame'>\n",
      "RangeIndex: 8807 entries, 0 to 8806\n",
      "Data columns (total 12 columns):\n",
      " #   Column        Non-Null Count  Dtype \n",
      "---  ------        --------------  ----- \n",
      " 0   show_id       8807 non-null   object\n",
      " 1   type          8807 non-null   object\n",
      " 2   title         8807 non-null   object\n",
      " 3   director      6173 non-null   object\n",
      " 4   cast          7982 non-null   object\n",
      " 5   country       7976 non-null   object\n",
      " 6   date_added    8797 non-null   object\n",
      " 7   release_year  8807 non-null   int64 \n",
      " 8   rating        8803 non-null   object\n",
      " 9   duration      8804 non-null   object\n",
      " 10  listed_in     8807 non-null   object\n",
      " 11  description   8807 non-null   object\n",
      "dtypes: int64(1), object(11)\n",
      "memory usage: 825.8+ KB\n"
     ]
    }
   ],
   "source": [
    "df.info()"
   ]
  },
  {
   "cell_type": "code",
   "execution_count": 57,
   "metadata": {},
   "outputs": [
    {
     "data": {
      "text/plain": [
       "show_id            0\n",
       "type               0\n",
       "title              0\n",
       "director        2634\n",
       "cast             825\n",
       "country          831\n",
       "date_added        10\n",
       "release_year       0\n",
       "rating             4\n",
       "duration           3\n",
       "listed_in          0\n",
       "description        0\n",
       "dtype: int64"
      ]
     },
     "execution_count": 57,
     "metadata": {},
     "output_type": "execute_result"
    }
   ],
   "source": [
    "df.isnull().sum()"
   ]
  },
  {
   "cell_type": "markdown",
   "metadata": {},
   "source": [
    "#### observation about dataset:\n",
    "\n",
    "dataset has 8807 rows and 12 columns\n",
    "\n",
    "Checking the duplicates \n",
    "\n",
    "Convert date_added to proper datetime format.\n",
    "\n",
    "Extract year_added and month_added for time-based analysis.\n",
    "\n",
    "Handled missing values:\n",
    "\n",
    "rating → \"Unknown\"\n",
    "\n",
    "director, cast → \"Not Available\"\n",
    "\n",
    "country → \"Unknown\"\n",
    "\n",
    "Created a content_type column (to distinguish Movies & TV Shows).\n",
    "\n",
    "Fixed duration column:\n",
    "\n",
    "Converted TV Show seasons to numeric values.\n",
    "\n",
    "Filled missing values.\n",
    "\n",
    "Saved cleaned dataset as netflix_cleaned.csv"
   ]
  },
  {
   "cell_type": "markdown",
   "metadata": {},
   "source": [
    "### 2. Data cleaning & proprocessing"
   ]
  },
  {
   "cell_type": "code",
   "execution_count": 58,
   "metadata": {},
   "outputs": [
    {
     "name": "stdout",
     "output_type": "stream",
     "text": [
      "<class 'pandas.core.frame.DataFrame'>\n",
      "RangeIndex: 8807 entries, 0 to 8806\n",
      "Data columns (total 12 columns):\n",
      " #   Column        Non-Null Count  Dtype \n",
      "---  ------        --------------  ----- \n",
      " 0   show_id       8807 non-null   object\n",
      " 1   type          8807 non-null   object\n",
      " 2   title         8807 non-null   object\n",
      " 3   director      6173 non-null   object\n",
      " 4   cast          7982 non-null   object\n",
      " 5   country       7976 non-null   object\n",
      " 6   date_added    8797 non-null   object\n",
      " 7   release_year  8807 non-null   int64 \n",
      " 8   rating        8803 non-null   object\n",
      " 9   duration      8804 non-null   object\n",
      " 10  listed_in     8807 non-null   object\n",
      " 11  description   8807 non-null   object\n",
      "dtypes: int64(1), object(11)\n",
      "memory usage: 825.8+ KB\n"
     ]
    }
   ],
   "source": [
    "df.info()"
   ]
  },
  {
   "cell_type": "code",
   "execution_count": 59,
   "metadata": {},
   "outputs": [],
   "source": [
    "# Convert 'date_added' to datetime format\n",
    "df['date_added'] = pd.to_datetime(df['date_added'].str.strip(), format='mixed', errors='coerce')\n"
   ]
  },
  {
   "cell_type": "markdown",
   "metadata": {},
   "source": [
    "##### Explanation:\n",
    "str.strip() → Removes leading/trailing spaces causing the issue.\n",
    "\n",
    "format='mixed' → Pandas automatically detects different formats.\n",
    "\n",
    "errors='coerce' → Converts problematic values to NaT (null) instead of crashing."
   ]
  },
  {
   "cell_type": "code",
   "execution_count": 60,
   "metadata": {},
   "outputs": [],
   "source": [
    "# Convert 'date_added' to datetime format\n",
    "df['date_added'] = pd.to_datetime(df['date_added'])\n"
   ]
  },
  {
   "cell_type": "code",
   "execution_count": 61,
   "metadata": {},
   "outputs": [
    {
     "data": {
      "text/plain": [
       "show_id                 object\n",
       "type                    object\n",
       "title                   object\n",
       "director                object\n",
       "cast                    object\n",
       "country                 object\n",
       "date_added      datetime64[ns]\n",
       "release_year             int64\n",
       "rating                  object\n",
       "duration                object\n",
       "listed_in               object\n",
       "description             object\n",
       "dtype: object"
      ]
     },
     "execution_count": 61,
     "metadata": {},
     "output_type": "execute_result"
    }
   ],
   "source": [
    "# verifying the datatype\n",
    "df.dtypes"
   ]
  },
  {
   "cell_type": "code",
   "execution_count": 62,
   "metadata": {},
   "outputs": [
    {
     "name": "stderr",
     "output_type": "stream",
     "text": [
      "C:\\Users\\FINE LAPTOP\\AppData\\Local\\Temp\\ipykernel_6012\\1572709210.py:2: FutureWarning: A value is trying to be set on a copy of a DataFrame or Series through chained assignment using an inplace method.\n",
      "The behavior will change in pandas 3.0. This inplace method will never work because the intermediate object on which we are setting values always behaves as a copy.\n",
      "\n",
      "For example, when doing 'df[col].method(value, inplace=True)', try using 'df.method({col: value}, inplace=True)' or df[col] = df[col].method(value) instead, to perform the operation inplace on the original object.\n",
      "\n",
      "\n",
      "  df['rating'].fillna(\"Unknown\", inplace=True)\n",
      "C:\\Users\\FINE LAPTOP\\AppData\\Local\\Temp\\ipykernel_6012\\1572709210.py:3: FutureWarning: A value is trying to be set on a copy of a DataFrame or Series through chained assignment using an inplace method.\n",
      "The behavior will change in pandas 3.0. This inplace method will never work because the intermediate object on which we are setting values always behaves as a copy.\n",
      "\n",
      "For example, when doing 'df[col].method(value, inplace=True)', try using 'df.method({col: value}, inplace=True)' or df[col] = df[col].method(value) instead, to perform the operation inplace on the original object.\n",
      "\n",
      "\n",
      "  df['director'].fillna(\"Not Available\", inplace=True)\n",
      "C:\\Users\\FINE LAPTOP\\AppData\\Local\\Temp\\ipykernel_6012\\1572709210.py:4: FutureWarning: A value is trying to be set on a copy of a DataFrame or Series through chained assignment using an inplace method.\n",
      "The behavior will change in pandas 3.0. This inplace method will never work because the intermediate object on which we are setting values always behaves as a copy.\n",
      "\n",
      "For example, when doing 'df[col].method(value, inplace=True)', try using 'df.method({col: value}, inplace=True)' or df[col] = df[col].method(value) instead, to perform the operation inplace on the original object.\n",
      "\n",
      "\n",
      "  df['cast'].fillna(\"Not Available\", inplace=True)\n",
      "C:\\Users\\FINE LAPTOP\\AppData\\Local\\Temp\\ipykernel_6012\\1572709210.py:5: FutureWarning: A value is trying to be set on a copy of a DataFrame or Series through chained assignment using an inplace method.\n",
      "The behavior will change in pandas 3.0. This inplace method will never work because the intermediate object on which we are setting values always behaves as a copy.\n",
      "\n",
      "For example, when doing 'df[col].method(value, inplace=True)', try using 'df.method({col: value}, inplace=True)' or df[col] = df[col].method(value) instead, to perform the operation inplace on the original object.\n",
      "\n",
      "\n",
      "  df['country'].fillna(\"Unknown\", inplace=True)\n"
     ]
    }
   ],
   "source": [
    "# Fill missing values\n",
    "df['rating'].fillna(\"Unknown\", inplace=True)\n",
    "df['director'].fillna(\"Not Available\", inplace=True)\n",
    "df['cast'].fillna(\"Not Available\", inplace=True)\n",
    "df['country'].fillna(\"Unknown\", inplace=True)"
   ]
  },
  {
   "cell_type": "code",
   "execution_count": 63,
   "metadata": {},
   "outputs": [
    {
     "name": "stderr",
     "output_type": "stream",
     "text": [
      "C:\\Users\\FINE LAPTOP\\AppData\\Local\\Temp\\ipykernel_6012\\1893020897.py:1: FutureWarning: A value is trying to be set on a copy of a DataFrame or Series through chained assignment using an inplace method.\n",
      "The behavior will change in pandas 3.0. This inplace method will never work because the intermediate object on which we are setting values always behaves as a copy.\n",
      "\n",
      "For example, when doing 'df[col].method(value, inplace=True)', try using 'df.method({col: value}, inplace=True)' or df[col] = df[col].method(value) instead, to perform the operation inplace on the original object.\n",
      "\n",
      "\n",
      "  df['date_added'].fillna(df['date_added'].mode()[0], inplace=True)\n"
     ]
    }
   ],
   "source": [
    "df['date_added'].fillna(df['date_added'].mode()[0], inplace=True)\n"
   ]
  },
  {
   "cell_type": "code",
   "execution_count": 64,
   "metadata": {},
   "outputs": [
    {
     "data": {
      "text/plain": [
       "show_id         0\n",
       "type            0\n",
       "title           0\n",
       "director        0\n",
       "cast            0\n",
       "country         0\n",
       "date_added      0\n",
       "release_year    0\n",
       "rating          0\n",
       "duration        3\n",
       "listed_in       0\n",
       "description     0\n",
       "dtype: int64"
      ]
     },
     "execution_count": 64,
     "metadata": {},
     "output_type": "execute_result"
    }
   ],
   "source": [
    "df.isnull().sum()"
   ]
  },
  {
   "cell_type": "code",
   "execution_count": 65,
   "metadata": {},
   "outputs": [],
   "source": [
    "# Drop unnecessary columns (Optional)\n",
    "df.drop(columns=['show_id', 'description'], inplace=True)  # Keeping only relevant columns\n"
   ]
  },
  {
   "cell_type": "code",
   "execution_count": 69,
   "metadata": {},
   "outputs": [],
   "source": [
    "# Extract Year & Month from 'date_added'\n",
    "df['year_added'] = df['date_added'].dt.year\n",
    "df['month_added'] = df['date_added'].dt.month\n"
   ]
  },
  {
   "cell_type": "code",
   "execution_count": 67,
   "metadata": {},
   "outputs": [],
   "source": [
    "# Convert 'duration' column into numeric values\n",
    "def convert_duration(value):\n",
    "    if 'min' in value:\n",
    "        return int(value.replace(\" min\", \"\"))\n",
    "    elif 'Season' in value:\n",
    "        return int(value.split(\" \")[0])  # Extract number of seasons\n",
    "    return 0  # Handle unexpected values"
   ]
  },
  {
   "cell_type": "code",
   "execution_count": 71,
   "metadata": {},
   "outputs": [],
   "source": [
    "# Normalize 'duration' column\n",
    "df['duration'] = df['duration'].fillna(\"0 min\")  # Fill NaN values\n"
   ]
  },
  {
   "cell_type": "code",
   "execution_count": 73,
   "metadata": {},
   "outputs": [],
   "source": [
    "# Create 'content_type' column (Movie or TV Show)\n",
    "df['content_type'] = df['type'].apply(lambda x: \"Movie\" if x == \"Movie\" else \"TV Show\")\n"
   ]
  },
  {
   "cell_type": "code",
   "execution_count": 75,
   "metadata": {},
   "outputs": [],
   "source": [
    "# Convert 'duration' column into numeric values\n",
    "def convert_duration(value):\n",
    "    if 'min' in value:\n",
    "        return int(value.replace(\" min\", \"\"))\n",
    "    elif 'Season' in value:\n",
    "        return int(value.split(\" \")[0])  # Extract number of seasons\n",
    "    return 0  # Handle unexpected values\n",
    "\n",
    "df['duration'] = df['duration'].apply(convert_duration)\n"
   ]
  },
  {
   "cell_type": "code",
   "execution_count": 77,
   "metadata": {},
   "outputs": [
    {
     "data": {
      "text/plain": [
       "type            0\n",
       "title           0\n",
       "director        0\n",
       "cast            0\n",
       "country         0\n",
       "date_added      0\n",
       "release_year    0\n",
       "rating          0\n",
       "duration        0\n",
       "listed_in       0\n",
       "year_added      0\n",
       "month_added     0\n",
       "content_type    0\n",
       "dtype: int64"
      ]
     },
     "execution_count": 77,
     "metadata": {},
     "output_type": "execute_result"
    }
   ],
   "source": [
    "df.isnull().sum()"
   ]
  },
  {
   "cell_type": "code",
   "execution_count": 79,
   "metadata": {},
   "outputs": [],
   "source": [
    "# Save cleaned dataset\n",
    "df.to_csv(\"netflix_cleaned.csv\", index=False)\n"
   ]
  },
  {
   "cell_type": "code",
   "execution_count": 80,
   "metadata": {},
   "outputs": [
    {
     "name": "stdout",
     "output_type": "stream",
     "text": [
      "\n",
      "✅ Data Cleaning Completed!\n",
      "<class 'pandas.core.frame.DataFrame'>\n",
      "RangeIndex: 8807 entries, 0 to 8806\n",
      "Data columns (total 13 columns):\n",
      " #   Column        Non-Null Count  Dtype         \n",
      "---  ------        --------------  -----         \n",
      " 0   type          8807 non-null   object        \n",
      " 1   title         8807 non-null   object        \n",
      " 2   director      8807 non-null   object        \n",
      " 3   cast          8807 non-null   object        \n",
      " 4   country       8807 non-null   object        \n",
      " 5   date_added    8807 non-null   datetime64[ns]\n",
      " 6   release_year  8807 non-null   int64         \n",
      " 7   rating        8807 non-null   object        \n",
      " 8   duration      8807 non-null   int64         \n",
      " 9   listed_in     8807 non-null   object        \n",
      " 10  year_added    8807 non-null   int32         \n",
      " 11  month_added   8807 non-null   int32         \n",
      " 12  content_type  8807 non-null   object        \n",
      "dtypes: datetime64[ns](1), int32(2), int64(2), object(8)\n",
      "memory usage: 825.8+ KB\n",
      "None\n",
      "\n",
      "Cleaned dataset saved as 'netflix_cleaned.csv'.\n"
     ]
    }
   ],
   "source": [
    "# Display final dataset info\n",
    "print(\"\\n✅ Data Cleaning Completed!\")\n",
    "print(df.info())\n",
    "print(\"\\nCleaned dataset saved as 'netflix_cleaned.csv'.\")"
   ]
  },
  {
   "cell_type": "markdown",
   "metadata": {},
   "source": [
    "#### Key Fixes & Improvements:\n",
    "✅ Handled date_added missing values and extracted year_added & month_added.\n",
    "\n",
    "✅ Refined duration column:\n",
    "\n",
    "Convert minutes into numeric values.\n",
    "\n",
    "Convert \"1 Season\", \"2 Seasons\" into numbers.\n",
    "\n",
    "✅ Dropped unnecessary columns (show_id and description to keep the dataset concise).\n",
    "\n",
    "✅ Created a new column content_type to clearly separate Movies vs. TV Shows.\n",
    "\n"
   ]
  },
  {
   "cell_type": "markdown",
   "metadata": {},
   "source": [
    "### 3: Exploratory Data Analysis (EDA)"
   ]
  },
  {
   "cell_type": "markdown",
   "metadata": {},
   "source": [
    "now We Will Do in EDA:\n",
    "\n",
    "3.1 Basic Statistics & Overview\n",
    "\n",
    "Check the distribution of movie vs TV shows\n",
    "\n",
    "Most common genres\n",
    "\n",
    "Most active directors & actors\n",
    "\n",
    "Number of releases per year\n",
    "\n",
    "3.2 Trend Analysis\n",
    "\n",
    "How many titles are added each year?\n",
    "\n",
    "Which country produces the most content?\n",
    "\n",
    "Distribution of ratings (G, PG, R, etc.)\n",
    "\n",
    "Duration trends of movies and TV shows\n",
    "\n"
   ]
  },
  {
   "cell_type": "code",
   "execution_count": 82,
   "metadata": {},
   "outputs": [
    {
     "data": {
      "application/vnd.microsoft.datawrangler.viewer.v0+json": {
       "columns": [
        {
         "name": "index",
         "rawType": "int64",
         "type": "integer"
        },
        {
         "name": "type",
         "rawType": "object",
         "type": "string"
        },
        {
         "name": "title",
         "rawType": "object",
         "type": "string"
        },
        {
         "name": "director",
         "rawType": "object",
         "type": "string"
        },
        {
         "name": "cast",
         "rawType": "object",
         "type": "string"
        },
        {
         "name": "country",
         "rawType": "object",
         "type": "string"
        },
        {
         "name": "date_added",
         "rawType": "object",
         "type": "string"
        },
        {
         "name": "release_year",
         "rawType": "int64",
         "type": "integer"
        },
        {
         "name": "rating",
         "rawType": "object",
         "type": "string"
        },
        {
         "name": "duration",
         "rawType": "int64",
         "type": "integer"
        },
        {
         "name": "listed_in",
         "rawType": "object",
         "type": "string"
        },
        {
         "name": "year_added",
         "rawType": "int64",
         "type": "integer"
        },
        {
         "name": "month_added",
         "rawType": "int64",
         "type": "integer"
        },
        {
         "name": "content_type",
         "rawType": "object",
         "type": "string"
        }
       ],
       "conversionMethod": "pd.DataFrame",
       "ref": "7ec1aaae-9ed7-474e-9ad7-ccb0dd5942c4",
       "rows": [
        [
         "0",
         "Movie",
         "Dick Johnson Is Dead",
         "Kirsten Johnson",
         "Not Available",
         "United States",
         "2021-09-25",
         "2020",
         "PG-13",
         "90",
         "Documentaries",
         "2021",
         "9",
         "Movie"
        ],
        [
         "1",
         "TV Show",
         "Blood & Water",
         "Not Available",
         "Ama Qamata, Khosi Ngema, Gail Mabalane, Thabang Molaba, Dillon Windvogel, Natasha Thahane, Arno Greeff, Xolile Tshabalala, Getmore Sithole, Cindy Mahlangu, Ryle De Morny, Greteli Fincham, Sello Maake Ka-Ncube, Odwa Gwanya, Mekaila Mathys, Sandi Schultz, Duane Williams, Shamilla Miller, Patrick Mofokeng",
         "South Africa",
         "2021-09-24",
         "2021",
         "TV-MA",
         "2",
         "International TV Shows, TV Dramas, TV Mysteries",
         "2021",
         "9",
         "TV Show"
        ],
        [
         "2",
         "TV Show",
         "Ganglands",
         "Julien Leclercq",
         "Sami Bouajila, Tracy Gotoas, Samuel Jouy, Nabiha Akkari, Sofia Lesaffre, Salim Kechiouche, Noureddine Farihi, Geert Van Rampelberg, Bakary Diombera",
         "Unknown",
         "2021-09-24",
         "2021",
         "TV-MA",
         "1",
         "Crime TV Shows, International TV Shows, TV Action & Adventure",
         "2021",
         "9",
         "TV Show"
        ],
        [
         "3",
         "TV Show",
         "Jailbirds New Orleans",
         "Not Available",
         "Not Available",
         "Unknown",
         "2021-09-24",
         "2021",
         "TV-MA",
         "1",
         "Docuseries, Reality TV",
         "2021",
         "9",
         "TV Show"
        ],
        [
         "4",
         "TV Show",
         "Kota Factory",
         "Not Available",
         "Mayur More, Jitendra Kumar, Ranjan Raj, Alam Khan, Ahsaas Channa, Revathi Pillai, Urvi Singh, Arun Kumar",
         "India",
         "2021-09-24",
         "2021",
         "TV-MA",
         "2",
         "International TV Shows, Romantic TV Shows, TV Comedies",
         "2021",
         "9",
         "TV Show"
        ]
       ],
       "shape": {
        "columns": 13,
        "rows": 5
       }
      },
      "text/html": [
       "<div>\n",
       "<style scoped>\n",
       "    .dataframe tbody tr th:only-of-type {\n",
       "        vertical-align: middle;\n",
       "    }\n",
       "\n",
       "    .dataframe tbody tr th {\n",
       "        vertical-align: top;\n",
       "    }\n",
       "\n",
       "    .dataframe thead th {\n",
       "        text-align: right;\n",
       "    }\n",
       "</style>\n",
       "<table border=\"1\" class=\"dataframe\">\n",
       "  <thead>\n",
       "    <tr style=\"text-align: right;\">\n",
       "      <th></th>\n",
       "      <th>type</th>\n",
       "      <th>title</th>\n",
       "      <th>director</th>\n",
       "      <th>cast</th>\n",
       "      <th>country</th>\n",
       "      <th>date_added</th>\n",
       "      <th>release_year</th>\n",
       "      <th>rating</th>\n",
       "      <th>duration</th>\n",
       "      <th>listed_in</th>\n",
       "      <th>year_added</th>\n",
       "      <th>month_added</th>\n",
       "      <th>content_type</th>\n",
       "    </tr>\n",
       "  </thead>\n",
       "  <tbody>\n",
       "    <tr>\n",
       "      <th>0</th>\n",
       "      <td>Movie</td>\n",
       "      <td>Dick Johnson Is Dead</td>\n",
       "      <td>Kirsten Johnson</td>\n",
       "      <td>Not Available</td>\n",
       "      <td>United States</td>\n",
       "      <td>2021-09-25</td>\n",
       "      <td>2020</td>\n",
       "      <td>PG-13</td>\n",
       "      <td>90</td>\n",
       "      <td>Documentaries</td>\n",
       "      <td>2021</td>\n",
       "      <td>9</td>\n",
       "      <td>Movie</td>\n",
       "    </tr>\n",
       "    <tr>\n",
       "      <th>1</th>\n",
       "      <td>TV Show</td>\n",
       "      <td>Blood &amp; Water</td>\n",
       "      <td>Not Available</td>\n",
       "      <td>Ama Qamata, Khosi Ngema, Gail Mabalane, Thaban...</td>\n",
       "      <td>South Africa</td>\n",
       "      <td>2021-09-24</td>\n",
       "      <td>2021</td>\n",
       "      <td>TV-MA</td>\n",
       "      <td>2</td>\n",
       "      <td>International TV Shows, TV Dramas, TV Mysteries</td>\n",
       "      <td>2021</td>\n",
       "      <td>9</td>\n",
       "      <td>TV Show</td>\n",
       "    </tr>\n",
       "    <tr>\n",
       "      <th>2</th>\n",
       "      <td>TV Show</td>\n",
       "      <td>Ganglands</td>\n",
       "      <td>Julien Leclercq</td>\n",
       "      <td>Sami Bouajila, Tracy Gotoas, Samuel Jouy, Nabi...</td>\n",
       "      <td>Unknown</td>\n",
       "      <td>2021-09-24</td>\n",
       "      <td>2021</td>\n",
       "      <td>TV-MA</td>\n",
       "      <td>1</td>\n",
       "      <td>Crime TV Shows, International TV Shows, TV Act...</td>\n",
       "      <td>2021</td>\n",
       "      <td>9</td>\n",
       "      <td>TV Show</td>\n",
       "    </tr>\n",
       "    <tr>\n",
       "      <th>3</th>\n",
       "      <td>TV Show</td>\n",
       "      <td>Jailbirds New Orleans</td>\n",
       "      <td>Not Available</td>\n",
       "      <td>Not Available</td>\n",
       "      <td>Unknown</td>\n",
       "      <td>2021-09-24</td>\n",
       "      <td>2021</td>\n",
       "      <td>TV-MA</td>\n",
       "      <td>1</td>\n",
       "      <td>Docuseries, Reality TV</td>\n",
       "      <td>2021</td>\n",
       "      <td>9</td>\n",
       "      <td>TV Show</td>\n",
       "    </tr>\n",
       "    <tr>\n",
       "      <th>4</th>\n",
       "      <td>TV Show</td>\n",
       "      <td>Kota Factory</td>\n",
       "      <td>Not Available</td>\n",
       "      <td>Mayur More, Jitendra Kumar, Ranjan Raj, Alam K...</td>\n",
       "      <td>India</td>\n",
       "      <td>2021-09-24</td>\n",
       "      <td>2021</td>\n",
       "      <td>TV-MA</td>\n",
       "      <td>2</td>\n",
       "      <td>International TV Shows, Romantic TV Shows, TV ...</td>\n",
       "      <td>2021</td>\n",
       "      <td>9</td>\n",
       "      <td>TV Show</td>\n",
       "    </tr>\n",
       "  </tbody>\n",
       "</table>\n",
       "</div>"
      ],
      "text/plain": [
       "      type                  title         director  \\\n",
       "0    Movie   Dick Johnson Is Dead  Kirsten Johnson   \n",
       "1  TV Show          Blood & Water    Not Available   \n",
       "2  TV Show              Ganglands  Julien Leclercq   \n",
       "3  TV Show  Jailbirds New Orleans    Not Available   \n",
       "4  TV Show           Kota Factory    Not Available   \n",
       "\n",
       "                                                cast        country  \\\n",
       "0                                      Not Available  United States   \n",
       "1  Ama Qamata, Khosi Ngema, Gail Mabalane, Thaban...   South Africa   \n",
       "2  Sami Bouajila, Tracy Gotoas, Samuel Jouy, Nabi...        Unknown   \n",
       "3                                      Not Available        Unknown   \n",
       "4  Mayur More, Jitendra Kumar, Ranjan Raj, Alam K...          India   \n",
       "\n",
       "   date_added  release_year rating  duration  \\\n",
       "0  2021-09-25          2020  PG-13        90   \n",
       "1  2021-09-24          2021  TV-MA         2   \n",
       "2  2021-09-24          2021  TV-MA         1   \n",
       "3  2021-09-24          2021  TV-MA         1   \n",
       "4  2021-09-24          2021  TV-MA         2   \n",
       "\n",
       "                                           listed_in  year_added  month_added  \\\n",
       "0                                      Documentaries        2021            9   \n",
       "1    International TV Shows, TV Dramas, TV Mysteries        2021            9   \n",
       "2  Crime TV Shows, International TV Shows, TV Act...        2021            9   \n",
       "3                             Docuseries, Reality TV        2021            9   \n",
       "4  International TV Shows, Romantic TV Shows, TV ...        2021            9   \n",
       "\n",
       "  content_type  \n",
       "0        Movie  \n",
       "1      TV Show  \n",
       "2      TV Show  \n",
       "3      TV Show  \n",
       "4      TV Show  "
      ]
     },
     "execution_count": 82,
     "metadata": {},
     "output_type": "execute_result"
    }
   ],
   "source": [
    "# Load cleaned data\n",
    "df = pd.read_csv(\"Netflix_cleaned.csv\")\n",
    "\n",
    "df.head()"
   ]
  },
  {
   "cell_type": "code",
   "execution_count": 83,
   "metadata": {},
   "outputs": [],
   "source": [
    "# Set style\n",
    "sns.set(style=\"whitegrid\")\n"
   ]
  },
  {
   "cell_type": "code",
   "execution_count": 84,
   "metadata": {},
   "outputs": [
    {
     "name": "stderr",
     "output_type": "stream",
     "text": [
      "C:\\Users\\FINE LAPTOP\\AppData\\Local\\Temp\\ipykernel_6012\\2676605531.py:3: FutureWarning: \n",
      "\n",
      "Passing `palette` without assigning `hue` is deprecated and will be removed in v0.14.0. Assign the `x` variable to `hue` and set `legend=False` for the same effect.\n",
      "\n",
      "  sns.countplot(data=df, x=\"type\", palette=\"coolwarm\")\n"
     ]
    },
    {
     "data": {
      "image/png": "[encoded data removed]",
      "text/plain": [
       "<Figure size 600x400 with 1 Axes>"
      ]
     },
     "metadata": {},
     "output_type": "display_data"
    }
   ],
   "source": [
    "## 1. Movie vs TV Show Distribution\n",
    "plt.figure(figsize=(6, 4))\n",
    "sns.countplot(data=df, x=\"type\", palette=\"coolwarm\")\n",
    "plt.title(\"Distribution of Movies & TV Shows\", fontsize=14)\n",
    "plt.show()"
   ]
  },
  {
   "cell_type": "code",
   "execution_count": 85,
   "metadata": {},
   "outputs": [
    {
     "data": {
      "image/png": "[encoded data removed]",
      "text/plain": [
       "<Figure size 1000x500 with 1 Axes>"
      ]
     },
     "metadata": {},
     "output_type": "display_data"
    }
   ],
   "source": [
    "## 2. Top 10 Most Common Genres\n",
    "plt.figure(figsize=(10, 5))\n",
    "df['listed_in'].str.split(', ').explode().value_counts()[:10].plot(kind='bar', color='teal')\n",
    "plt.title(\"Top 10 Most Common Genres\", fontsize=14)\n",
    "plt.xticks(rotation=45)\n",
    "plt.show()"
   ]
  }
 ],
 "metadata": {
  "kernelspec": {
   "display_name": "netflix-analysis",
   "language": "python",
   "name": "python3"
  },
  "language_info": {
   "codemirror_mode": {
    "name": "ipython",
    "version": 3
   },
   "file_extension": ".py",
   "mimetype": "text/x-python",
   "name": "python",
   "nbconvert_exporter": "python",
   "pygments_lexer": "ipython3",
   "version": "3.12.4"
  }
 },
 "nbformat": 4,
 "nbformat_minor": 2
}
